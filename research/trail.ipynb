{
 "cells": [
  {
   "cell_type": "code",
   "execution_count": 1,
   "metadata": {},
   "outputs": [],
   "source": [
    "import pandas as pd"
   ]
  },
  {
   "cell_type": "code",
   "execution_count": 2,
   "metadata": {},
   "outputs": [],
   "source": [
    "import os"
   ]
  },
  {
   "cell_type": "code",
   "execution_count": 3,
   "metadata": {},
   "outputs": [],
   "source": [
    "import numpy as np"
   ]
  },
  {
   "cell_type": "code",
   "execution_count": 4,
   "metadata": {},
   "outputs": [],
   "source": [
    "os.chdir('../')"
   ]
  },
  {
   "cell_type": "code",
   "execution_count": 5,
   "metadata": {},
   "outputs": [],
   "source": [
    "path = 'artifacts/data_transform/train.csv'"
   ]
  },
  {
   "cell_type": "code",
   "execution_count": 6,
   "metadata": {},
   "outputs": [],
   "source": [
    "data = pd.read_csv(path)"
   ]
  },
  {
   "cell_type": "code",
   "execution_count": 7,
   "metadata": {},
   "outputs": [
    {
     "data": {
      "text/html": [
       "<div>\n",
       "<style scoped>\n",
       "    .dataframe tbody tr th:only-of-type {\n",
       "        vertical-align: middle;\n",
       "    }\n",
       "\n",
       "    .dataframe tbody tr th {\n",
       "        vertical-align: top;\n",
       "    }\n",
       "\n",
       "    .dataframe thead th {\n",
       "        text-align: right;\n",
       "    }\n",
       "</style>\n",
       "<table border=\"1\" class=\"dataframe\">\n",
       "  <thead>\n",
       "    <tr style=\"text-align: right;\">\n",
       "      <th></th>\n",
       "      <th>budget</th>\n",
       "      <th>genres</th>\n",
       "      <th>production_countries</th>\n",
       "      <th>runtime</th>\n",
       "      <th>spoken_languages</th>\n",
       "      <th>crew</th>\n",
       "      <th>release_month</th>\n",
       "      <th>hero</th>\n",
       "      <th>heroine</th>\n",
       "      <th>footfall</th>\n",
       "    </tr>\n",
       "  </thead>\n",
       "  <tbody>\n",
       "    <tr>\n",
       "      <th>0</th>\n",
       "      <td>110000000</td>\n",
       "      <td>['Action', 'Comedy', 'Drama', 'Thriller']</td>\n",
       "      <td>US</td>\n",
       "      <td>120.0</td>\n",
       "      <td>en</td>\n",
       "      <td>Doug Liman</td>\n",
       "      <td>Jun</td>\n",
       "      <td>Angelina Jolie</td>\n",
       "      <td>Brad Pitt</td>\n",
       "      <td>74603357.0</td>\n",
       "    </tr>\n",
       "    <tr>\n",
       "      <th>1</th>\n",
       "      <td>18000000</td>\n",
       "      <td>['Romance', 'Music', 'Family']</td>\n",
       "      <td>US</td>\n",
       "      <td>94.0</td>\n",
       "      <td>en</td>\n",
       "      <td>Bille Woodruff</td>\n",
       "      <td>Nov</td>\n",
       "      <td>Jessica Alba</td>\n",
       "      <td>Mekhi Phifer</td>\n",
       "      <td>10389181.0</td>\n",
       "    </tr>\n",
       "    <tr>\n",
       "      <th>2</th>\n",
       "      <td>32500000</td>\n",
       "      <td>['Comedy', 'Romance']</td>\n",
       "      <td>US</td>\n",
       "      <td>125.0</td>\n",
       "      <td>en</td>\n",
       "      <td>Paul Feig</td>\n",
       "      <td>Apr</td>\n",
       "      <td>Kristen Wiig</td>\n",
       "      <td>Rose Byrne</td>\n",
       "      <td>36366144.0</td>\n",
       "    </tr>\n",
       "    <tr>\n",
       "      <th>3</th>\n",
       "      <td>11000000</td>\n",
       "      <td>['Drama', 'History']</td>\n",
       "      <td>US</td>\n",
       "      <td>124.0</td>\n",
       "      <td>en</td>\n",
       "      <td>Martin Ritt</td>\n",
       "      <td>Jan</td>\n",
       "      <td>Sean Connery</td>\n",
       "      <td>Samantha Eggar</td>\n",
       "      <td>1419354.0</td>\n",
       "    </tr>\n",
       "    <tr>\n",
       "      <th>4</th>\n",
       "      <td>72000000</td>\n",
       "      <td>['Drama', 'Romance']</td>\n",
       "      <td>US</td>\n",
       "      <td>152.0</td>\n",
       "      <td>en</td>\n",
       "      <td>Frank Darabont</td>\n",
       "      <td>Dec</td>\n",
       "      <td>Jim Carrey</td>\n",
       "      <td>Martin Landau</td>\n",
       "      <td>6593208.0</td>\n",
       "    </tr>\n",
       "  </tbody>\n",
       "</table>\n",
       "</div>"
      ],
      "text/plain": [
       "      budget                                     genres production_countries  \\\n",
       "0  110000000  ['Action', 'Comedy', 'Drama', 'Thriller']                   US   \n",
       "1   18000000             ['Romance', 'Music', 'Family']                   US   \n",
       "2   32500000                      ['Comedy', 'Romance']                   US   \n",
       "3   11000000                       ['Drama', 'History']                   US   \n",
       "4   72000000                       ['Drama', 'Romance']                   US   \n",
       "\n",
       "   runtime spoken_languages            crew release_month            hero  \\\n",
       "0    120.0               en      Doug Liman           Jun  Angelina Jolie   \n",
       "1     94.0               en  Bille Woodruff           Nov    Jessica Alba   \n",
       "2    125.0               en       Paul Feig           Apr    Kristen Wiig   \n",
       "3    124.0               en     Martin Ritt           Jan    Sean Connery   \n",
       "4    152.0               en  Frank Darabont           Dec      Jim Carrey   \n",
       "\n",
       "          heroine    footfall  \n",
       "0       Brad Pitt  74603357.0  \n",
       "1    Mekhi Phifer  10389181.0  \n",
       "2      Rose Byrne  36366144.0  \n",
       "3  Samantha Eggar   1419354.0  \n",
       "4   Martin Landau   6593208.0  "
      ]
     },
     "execution_count": 7,
     "metadata": {},
     "output_type": "execute_result"
    }
   ],
   "source": [
    "data.head()"
   ]
  },
  {
   "cell_type": "code",
   "execution_count": 8,
   "metadata": {},
   "outputs": [],
   "source": [
    "x = data['genres']"
   ]
  },
  {
   "cell_type": "code",
   "execution_count": 9,
   "metadata": {},
   "outputs": [
    {
     "data": {
      "text/plain": [
       "budget                  0\n",
       "genres                  0\n",
       "production_countries    0\n",
       "runtime                 0\n",
       "spoken_languages        0\n",
       "crew                    0\n",
       "release_month           0\n",
       "hero                    0\n",
       "heroine                 0\n",
       "footfall                0\n",
       "dtype: int64"
      ]
     },
     "execution_count": 9,
     "metadata": {},
     "output_type": "execute_result"
    }
   ],
   "source": [
    "data.isnull().sum()"
   ]
  },
  {
   "cell_type": "code",
   "execution_count": 10,
   "metadata": {},
   "outputs": [],
   "source": [
    "target = data['footfall']"
   ]
  },
  {
   "cell_type": "code",
   "execution_count": 11,
   "metadata": {},
   "outputs": [],
   "source": [
    "import matplotlib.pyplot as plt"
   ]
  },
  {
   "cell_type": "code",
   "execution_count": 12,
   "metadata": {},
   "outputs": [
    {
     "data": {
      "image/png": "[encoded data removed]",
      "text/plain": [
       "<Figure size 640x480 with 1 Axes>"
      ]
     },
     "metadata": {},
     "output_type": "display_data"
    }
   ],
   "source": [
    "target.hist(bins=10)\n",
    "plt.xlabel('footfall')\n",
    "plt.ylabel(\"Count\")\n",
    "plt.title('Distribution')\n",
    "plt.show()"
   ]
  },
  {
   "cell_type": "code",
   "execution_count": 13,
   "metadata": {},
   "outputs": [
    {
     "data": {
      "text/plain": [
       "budget                  0\n",
       "genres                  0\n",
       "production_countries    0\n",
       "runtime                 0\n",
       "spoken_languages        0\n",
       "crew                    0\n",
       "release_month           0\n",
       "hero                    0\n",
       "heroine                 0\n",
       "footfall                1\n",
       "dtype: int64"
      ]
     },
     "execution_count": 13,
     "metadata": {},
     "output_type": "execute_result"
    }
   ],
   "source": [
    "(data==0).sum()"
   ]
  },
  {
   "cell_type": "code",
   "execution_count": 14,
   "metadata": {},
   "outputs": [
    {
     "name": "stderr",
     "output_type": "stream",
     "text": [
      "/Volumes/T7/Box_office_prediction_project/boxoffice/lib/python3.9/site-packages/pandas/core/arraylike.py:399: RuntimeWarning: divide by zero encountered in log\n",
      "  result = getattr(ufunc, method)(*inputs, **kwargs)\n"
     ]
    }
   ],
   "source": [
    "target = np.log(target)"
   ]
  },
  {
   "cell_type": "code",
   "execution_count": 15,
   "metadata": {},
   "outputs": [],
   "source": [
    "organized_data = pd.read_csv('artifacts/data_transform/organized_cinema.csv')"
   ]
  },
  {
   "cell_type": "code",
   "execution_count": 16,
   "metadata": {},
   "outputs": [],
   "source": [
    "zero_features = [feature for feature in organized_data if (organized_data[feature]==0).sum()>1]"
   ]
  },
  {
   "cell_type": "code",
   "execution_count": 17,
   "metadata": {},
   "outputs": [
    {
     "name": "stdout",
     "output_type": "stream",
     "text": [
      "['budget', 'revenue', 'runtime', 'vote_average', 'vote_count']\n"
     ]
    }
   ],
   "source": [
    "print(zero_features)"
   ]
  },
  {
   "cell_type": "code",
   "execution_count": 18,
   "metadata": {},
   "outputs": [],
   "source": [
    "cond = (organized_data[zero_features]==0).any(axis=1)"
   ]
  },
  {
   "cell_type": "code",
   "execution_count": 19,
   "metadata": {},
   "outputs": [],
   "source": [
    "organized_data = organized_data[~cond]"
   ]
  },
  {
   "cell_type": "code",
   "execution_count": 20,
   "metadata": {},
   "outputs": [
    {
     "data": {
      "text/plain": [
       "budget                  0\n",
       "genres                  0\n",
       "original_language       0\n",
       "popularity              0\n",
       "production_companies    0\n",
       "production_countries    0\n",
       "revenue                 0\n",
       "runtime                 0\n",
       "spoken_languages        0\n",
       "status                  0\n",
       "vote_average            0\n",
       "vote_count              0\n",
       "crew                    0\n",
       "release_month           0\n",
       "avg_ticket_price        0\n",
       "hero                    0\n",
       "heroine                 0\n",
       "dtype: int64"
      ]
     },
     "execution_count": 20,
     "metadata": {},
     "output_type": "execute_result"
    }
   ],
   "source": [
    "(organized_data==0).sum()"
   ]
  },
  {
   "cell_type": "code",
   "execution_count": null,
   "metadata": {},
   "outputs": [],
   "source": []
  }
 ],
 "metadata": {
  "kernelspec": {
   "display_name": "Python 3",
   "language": "python",
   "name": "python3"
  },
  "language_info": {
   "codemirror_mode": {
    "name": "ipython",
    "version": 3
   },
   "file_extension": ".py",
   "mimetype": "text/x-python",
   "name": "python",
   "nbconvert_exporter": "python",
   "pygments_lexer": "ipython3",
   "version": "3.9.19"
  }
 },
 "nbformat": 4,
 "nbformat_minor": 2
}
