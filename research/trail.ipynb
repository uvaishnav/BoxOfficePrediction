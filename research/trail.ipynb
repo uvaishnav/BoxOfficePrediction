{
 "cells": [
  {
   "cell_type": "code",
   "execution_count": 1,
   "metadata": {},
   "outputs": [],
   "source": [
    "import pandas as pd"
   ]
  },
  {
   "cell_type": "code",
   "execution_count": 2,
   "metadata": {},
   "outputs": [],
   "source": [
    "import os"
   ]
  },
  {
   "cell_type": "code",
   "execution_count": 3,
   "metadata": {},
   "outputs": [],
   "source": [
    "os.chdir('../')"
   ]
  },
  {
   "cell_type": "code",
   "execution_count": 4,
   "metadata": {},
   "outputs": [],
   "source": [
    "path = 'artifacts/data_transform/train.csv'"
   ]
  },
  {
   "cell_type": "code",
   "execution_count": 5,
   "metadata": {},
   "outputs": [],
   "source": [
    "data = pd.read_csv(path)"
   ]
  },
  {
   "cell_type": "code",
   "execution_count": 6,
   "metadata": {},
   "outputs": [
    {
     "data": {
      "text/html": [
       "<div>\n",
       "<style scoped>\n",
       "    .dataframe tbody tr th:only-of-type {\n",
       "        vertical-align: middle;\n",
       "    }\n",
       "\n",
       "    .dataframe tbody tr th {\n",
       "        vertical-align: top;\n",
       "    }\n",
       "\n",
       "    .dataframe thead th {\n",
       "        text-align: right;\n",
       "    }\n",
       "</style>\n",
       "<table border=\"1\" class=\"dataframe\">\n",
       "  <thead>\n",
       "    <tr style=\"text-align: right;\">\n",
       "      <th></th>\n",
       "      <th>budget</th>\n",
       "      <th>genres</th>\n",
       "      <th>production_countries</th>\n",
       "      <th>runtime</th>\n",
       "      <th>spoken_languages</th>\n",
       "      <th>crew</th>\n",
       "      <th>release_month</th>\n",
       "      <th>hero</th>\n",
       "      <th>heroine</th>\n",
       "      <th>footfall</th>\n",
       "    </tr>\n",
       "  </thead>\n",
       "  <tbody>\n",
       "    <tr>\n",
       "      <th>0</th>\n",
       "      <td>5000000</td>\n",
       "      <td>['Horror', 'Thriller']</td>\n",
       "      <td>US</td>\n",
       "      <td>88.0</td>\n",
       "      <td>en</td>\n",
       "      <td>Joe Chappelle</td>\n",
       "      <td>Sep</td>\n",
       "      <td>Donald Pleasence</td>\n",
       "      <td>Paul Rudd</td>\n",
       "      <td>3475088.0</td>\n",
       "    </tr>\n",
       "    <tr>\n",
       "      <th>1</th>\n",
       "      <td>130000000</td>\n",
       "      <td>['Animation', 'Action', 'Comedy', 'Family', 'S...</td>\n",
       "      <td>US</td>\n",
       "      <td>95.0</td>\n",
       "      <td>en</td>\n",
       "      <td>Tom McGrath</td>\n",
       "      <td>Oct</td>\n",
       "      <td>Will Ferrell</td>\n",
       "      <td>Brad Pitt</td>\n",
       "      <td>40796857.0</td>\n",
       "    </tr>\n",
       "    <tr>\n",
       "      <th>2</th>\n",
       "      <td>155000000</td>\n",
       "      <td>['Adventure', 'Family', 'Fantasy']</td>\n",
       "      <td>US</td>\n",
       "      <td>113.0</td>\n",
       "      <td>en</td>\n",
       "      <td>Michael Apted</td>\n",
       "      <td>Aug</td>\n",
       "      <td>Skandar Keynes</td>\n",
       "      <td>Georgie Henley</td>\n",
       "      <td>52685198.0</td>\n",
       "    </tr>\n",
       "    <tr>\n",
       "      <th>3</th>\n",
       "      <td>34000000</td>\n",
       "      <td>['Drama', 'Romance']</td>\n",
       "      <td>US</td>\n",
       "      <td>128.0</td>\n",
       "      <td>en</td>\n",
       "      <td>George Tillman, Jr.</td>\n",
       "      <td>Apr</td>\n",
       "      <td>Scott Eastwood</td>\n",
       "      <td>Britt Robertson</td>\n",
       "      <td>7474885.0</td>\n",
       "    </tr>\n",
       "    <tr>\n",
       "      <th>4</th>\n",
       "      <td>20000000</td>\n",
       "      <td>['Comedy']</td>\n",
       "      <td>US</td>\n",
       "      <td>92.0</td>\n",
       "      <td>en</td>\n",
       "      <td>Rawson Marshall Thurber</td>\n",
       "      <td>Jun</td>\n",
       "      <td>Vince Vaughn</td>\n",
       "      <td>Christine Taylor</td>\n",
       "      <td>27008423.0</td>\n",
       "    </tr>\n",
       "  </tbody>\n",
       "</table>\n",
       "</div>"
      ],
      "text/plain": [
       "      budget                                             genres  \\\n",
       "0    5000000                             ['Horror', 'Thriller']   \n",
       "1  130000000  ['Animation', 'Action', 'Comedy', 'Family', 'S...   \n",
       "2  155000000                 ['Adventure', 'Family', 'Fantasy']   \n",
       "3   34000000                               ['Drama', 'Romance']   \n",
       "4   20000000                                         ['Comedy']   \n",
       "\n",
       "  production_countries  runtime spoken_languages                     crew  \\\n",
       "0                   US     88.0               en            Joe Chappelle   \n",
       "1                   US     95.0               en              Tom McGrath   \n",
       "2                   US    113.0               en            Michael Apted   \n",
       "3                   US    128.0               en      George Tillman, Jr.   \n",
       "4                   US     92.0               en  Rawson Marshall Thurber   \n",
       "\n",
       "  release_month              hero           heroine    footfall  \n",
       "0           Sep  Donald Pleasence         Paul Rudd   3475088.0  \n",
       "1           Oct      Will Ferrell         Brad Pitt  40796857.0  \n",
       "2           Aug    Skandar Keynes    Georgie Henley  52685198.0  \n",
       "3           Apr    Scott Eastwood   Britt Robertson   7474885.0  \n",
       "4           Jun      Vince Vaughn  Christine Taylor  27008423.0  "
      ]
     },
     "execution_count": 6,
     "metadata": {},
     "output_type": "execute_result"
    }
   ],
   "source": [
    "data.head()"
   ]
  },
  {
   "cell_type": "code",
   "execution_count": null,
   "metadata": {},
   "outputs": [],
   "source": []
  }
 ],
 "metadata": {
  "kernelspec": {
   "display_name": "Python 3",
   "language": "python",
   "name": "python3"
  },
  "language_info": {
   "codemirror_mode": {
    "name": "ipython",
    "version": 3
   },
   "file_extension": ".py",
   "mimetype": "text/x-python",
   "name": "python",
   "nbconvert_exporter": "python",
   "pygments_lexer": "ipython3",
   "version": "3.9.19"
  }
 },
 "nbformat": 4,
 "nbformat_minor": 2
}
